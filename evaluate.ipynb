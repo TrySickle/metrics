{
 "cells": [
  {
   "cell_type": "code",
   "execution_count": 15,
   "metadata": {},
   "outputs": [
    {
     "name": "stdout",
     "output_type": "stream",
     "text": [
      "Loading VR_data/train-series-float32.timeseries\n",
      "Loading VR_data/train-labels-float32.labels\n"
     ]
    }
   ],
   "source": [
    "import argparse \n",
    "import tensorflow as tf\n",
    "from load_graph import load_graph\n",
    "import dataset_loading\n",
    "import numpy as np\n",
    "import functions\n",
    "\n",
    "# We use our \"load_graph\" function\n",
    "graph = load_graph(\"model/affordance-cvae-27000-2-final.ckpt.bytes\")\n",
    "\n",
    "# load data\n",
    "vr_data = dataset_loading.read_timeseries_data_only_train('VR_data')\n",
    "\n",
    "# We can verify that we can access the list of operations in the graph\n",
    "# for op in graph.get_operations():\n",
    "#     print(op.name)\n",
    "    # prefix/Placeholder/inputs_placeholder\n",
    "    # ...\n",
    "    # prefix/Accuracy/predictions\n",
    "\n",
    "# We access the input and output nodes \n",
    "input_dims = 27000\n",
    "cond_dims = 25\n",
    "X_in = graph.get_tensor_by_name('prefix/X:0')\n",
    "Cond = graph.get_tensor_by_name('prefix/Cond:0')\n",
    "dec = graph.get_tensor_by_name('prefix/decoder/Reshape_1:0')\n",
    "keep_prob = graph.get_tensor_by_name('prefix/keep_prob:0')\n",
    "batch_size = 64\n",
    "\n",
    "\n",
    "\n"
   ]
  },
  {
   "cell_type": "code",
   "execution_count": 17,
   "metadata": {},
   "outputs": [
    {
     "name": "stderr",
     "output_type": "stream",
     "text": [
      "IOPub data rate exceeded.\n",
      "The notebook server will temporarily stop sending output\n",
      "to the client in order to avoid crashing it.\n",
      "To change this limit, set the config variable\n",
      "`--NotebookApp.iopub_data_rate_limit`.\n",
      "\n",
      "Current values:\n",
      "NotebookApp.iopub_data_rate_limit=1000000.0 (bytes/sec)\n",
      "NotebookApp.rate_limit_window=3.0 (secs)\n",
      "\n"
     ]
    }
   ],
   "source": [
    "# We launch a Session\n",
    "predictions = []\n",
    "batches = []\n",
    "errors = []\n",
    "batches_completed = 0\n",
    "with tf.Session(graph=graph) as sess:\n",
    "#     while vr_data.train.num_examples - batches_completed * batch_size > 0:\n",
    "    batch, batch_labels = vr_data.train.next_timeseries_batch(batch_size=batch_size)\n",
    "    batch = np.reshape(batch, [-1, input_dims])\n",
    "    batch_labels = np.reshape(batch_labels, [-1, cond_dims])\n",
    "    d = sess.run([dec], feed_dict={X_in: batch, Cond: batch_labels, keep_prob: 0.8})\n",
    "    predictions.append(d[0])\n",
    "    batches.append(batch)\n",
    "    e = functions.fastDTWDistance_v1(d[0], batch)\n",
    "    errors = errors + e\n",
    "    batches_completed += 1\n",
    "    print(errors)\n",
    "\n",
    "sess.close()\n"
   ]
  },
  {
   "cell_type": "code",
   "execution_count": 18,
   "metadata": {},
   "outputs": [
    {
     "ename": "ValueError",
     "evalue": "setting an array element with a sequence.",
     "output_type": "error",
     "traceback": [
      "\u001b[1;31m---------------------------------------------------------------------------\u001b[0m",
      "\u001b[1;31mValueError\u001b[0m                                Traceback (most recent call last)",
      "\u001b[1;32m<ipython-input-18-4b8b40b36a32>\u001b[0m in \u001b[0;36m<module>\u001b[1;34m()\u001b[0m\n\u001b[0;32m      1\u001b[0m \u001b[0mnp_pred\u001b[0m \u001b[1;33m=\u001b[0m \u001b[0mnp\u001b[0m\u001b[1;33m.\u001b[0m\u001b[0marray\u001b[0m\u001b[1;33m(\u001b[0m\u001b[0mpredictions\u001b[0m\u001b[1;33m)\u001b[0m\u001b[1;33m\u001b[0m\u001b[0m\n\u001b[0;32m      2\u001b[0m \u001b[0mnp_batches\u001b[0m \u001b[1;33m=\u001b[0m \u001b[0mnp\u001b[0m\u001b[1;33m.\u001b[0m\u001b[0marray\u001b[0m\u001b[1;33m(\u001b[0m\u001b[0mbatches\u001b[0m\u001b[1;33m)\u001b[0m\u001b[1;33m\u001b[0m\u001b[0m\n\u001b[1;32m----> 3\u001b[1;33m \u001b[0mnp_errors\u001b[0m \u001b[1;33m=\u001b[0m \u001b[0mnp\u001b[0m\u001b[1;33m.\u001b[0m\u001b[0marray\u001b[0m\u001b[1;33m(\u001b[0m\u001b[0merrors\u001b[0m\u001b[1;33m)\u001b[0m\u001b[1;33m\u001b[0m\u001b[0m\n\u001b[0m\u001b[0;32m      4\u001b[0m \u001b[0mnp\u001b[0m\u001b[1;33m.\u001b[0m\u001b[0msave\u001b[0m\u001b[1;33m(\u001b[0m\u001b[1;34m\"predictions.npy\"\u001b[0m\u001b[1;33m,\u001b[0m \u001b[0mnp_pred\u001b[0m\u001b[1;33m)\u001b[0m\u001b[1;33m\u001b[0m\u001b[0m\n\u001b[0;32m      5\u001b[0m \u001b[0mnp\u001b[0m\u001b[1;33m.\u001b[0m\u001b[0msave\u001b[0m\u001b[1;33m(\u001b[0m\u001b[1;34m\"batches.npy\"\u001b[0m\u001b[1;33m,\u001b[0m \u001b[0mnp_batches\u001b[0m\u001b[1;33m)\u001b[0m\u001b[1;33m\u001b[0m\u001b[0m\n",
      "\u001b[1;31mValueError\u001b[0m: setting an array element with a sequence."
     ]
    }
   ],
   "source": [
    "np_pred = np.array(predictions)\n",
    "np_batches = np.array(batches)\n",
    "np_errors = np.array([i[0] for i in errors])\n",
    "np.save(\"predictions.npy\", np_pred)\n",
    "np.save(\"batches.npy\", np_batches)\n",
    "np.save(\"errors.npy\", np_errors)"
   ]
  }
 ],
 "metadata": {
  "kernelspec": {
   "display_name": "Python 3",
   "language": "python",
   "name": "python3"
  },
  "language_info": {
   "codemirror_mode": {
    "name": "ipython",
    "version": 3
   },
   "file_extension": ".py",
   "mimetype": "text/x-python",
   "name": "python",
   "nbconvert_exporter": "python",
   "pygments_lexer": "ipython3",
   "version": "3.6.5"
  }
 },
 "nbformat": 4,
 "nbformat_minor": 2
}
